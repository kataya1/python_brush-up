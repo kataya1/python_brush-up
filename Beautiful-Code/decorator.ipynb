{
 "cells": [
  {
   "cell_type": "code",
   "execution_count": 2,
   "metadata": {},
   "outputs": [
    {
     "data": {
      "text/plain": [
       "'Yo Bob, together we are the awesomest!'"
      ]
     },
     "execution_count": 2,
     "metadata": {},
     "output_type": "execute_result"
    }
   ],
   "source": [
    "'source: https://realpython.com/primer-on-python-decorators/'\n",
    "'''First-Class Objects\n",
    "In Python, functions are first-class objects. This means that functions can be passed around and used as arguments, just like any other object (string, int, float, list, and so on). \"this is useful in functional programing paradigm\" '''\n",
    "def say_hello(name):\n",
    "    return f\"Hello {name}\"\n",
    "\n",
    "def be_awesome(name):\n",
    "    return f\"Yo {name}, together we are the awesomest!\"\n",
    "\n",
    "def greet_bob(greeter_func):\n",
    "    'expects function as argument'\n",
    "    return greeter_func(\"Bob\")\n",
    "\n",
    "greet_bob(say_hello)\n",
    "greet_bob(be_awesome)"
   ]
  },
  {
   "cell_type": "code",
   "execution_count": 3,
   "metadata": {
    "tags": []
   },
   "outputs": [
    {
     "name": "stdout",
     "output_type": "stream",
     "text": [
      "<function parent.<locals>.first_child at 0x10e673700>\n",
      "<function parent.<locals>.second_child at 0x10e673af0>\n"
     ]
    },
    {
     "data": {
      "text/plain": [
       "<function __main__.parent.<locals>.second_child()>"
      ]
     },
     "execution_count": 3,
     "metadata": {},
     "output_type": "execute_result"
    }
   ],
   "source": [
    "'they arent defined until the parent is called #not sure how slow this will make stuff# '\n",
    "'maybe infuncional programming we path function instead of parameters. the best functions are the ones without parameters. maybe if we pass function arounds to other functions (in functional programming) we can isolate the impact of change like in OOP Abstraction'\n",
    "def parent(num):\n",
    "    'inner functions are loccaly scoped to parent you cant call them for the outside. #like OOP Encapsulation#'\n",
    "    'use function as a return value'\n",
    "    def first_child():\n",
    "        return \"Hi, I am Emma\"\n",
    "\n",
    "    def second_child():\n",
    "        return \"Call me Liam\"\n",
    "\n",
    "    if num == 1:\n",
    "        return first_child\n",
    "    else:\n",
    "        return second_child\n",
    "\n",
    "first = parent(1)\n",
    "second = parent(2)\n",
    "\n",
    "print(first)\n",
    "print(second)\n",
    "# difference between print(second) and second\n",
    "# this output is jupyters doing.\n",
    "second"
   ]
  },
  {
   "cell_type": "code",
   "execution_count": 13,
   "metadata": {
    "tags": []
   },
   "outputs": [
    {
     "name": "stdout",
     "output_type": "stream",
     "text": [
      "Something is happening before the function is called.\n",
      "Whee!\n",
      "Something is happening after the function is called.\n"
     ]
    }
   ],
   "source": [
    "\"By definition, a decorator is a function that takes another function and extends the behavior of the latter function without explicitly modifying it.\"\n",
    "def my_decorator(func):\n",
    "    def wrapper():\n",
    "        print(\"Something is happening before the function is called.\")\n",
    "        func()\n",
    "        print(\"Something is happening after the function is called.\")\n",
    "    return wrapper\n",
    "\n",
    "def say_whee():\n",
    "    print(\"Whee!\")\n",
    "\n",
    "say_whee = my_decorator(say_whee)\n",
    "say_whee() # points to the wrapper inner function\n",
    "#wrapper has a reference to the original say_whee() function"
   ]
  },
  {
   "cell_type": "code",
   "execution_count": 16,
   "metadata": {
    "tags": []
   },
   "outputs": [
    {
     "name": "stdout",
     "output_type": "stream",
     "text": [
      "Whee!\n"
     ]
    }
   ],
   "source": [
    "# Put simply: decorators wrap a function, modifying its behavior.\n",
    "from datetime import datetime\n",
    "\n",
    "def not_during_the_night(func):\n",
    "    def wrapper():\n",
    "        if 7 <= datetime.now().hour < 22:\n",
    "            func()\n",
    "        else:\n",
    "            print(\"it's night time shut up\")  # Hush, the neighbors are asleep\n",
    "    return wrapper\n",
    "\n",
    "'''\n",
    "def say_whee():\n",
    "    print(\"Whee!\")\n",
    "say_whee = not_during_the_night(say_whee)\n",
    "'''\n",
    "\n",
    "# Syntactic Sugar! is equivilant to the upove statement\n",
    "@not_during_the_night\n",
    "def say_whee():\n",
    "    print(\"Whee!\")\n",
    "\n",
    "say_whee()"
   ]
  },
  {
   "cell_type": "code",
   "execution_count": null,
   "metadata": {},
   "outputs": [],
   "source": [
    "'''Prefarably put decorators in their own file and import it as module'''"
   ]
  },
  {
   "cell_type": "code",
   "execution_count": 17,
   "metadata": {
    "tags": []
   },
   "outputs": [
    {
     "name": "stdout",
     "output_type": "stream",
     "text": [
      "Hello world!\n",
      "Hello world!\n"
     ]
    }
   ],
   "source": [
    "\"Accepting arguments\"\n",
    "'''since the inner wrapper function we wrote before takes no argument \n",
    "it can't pass it to the function inside it. \n",
    "the solution is using *arges and **kwargs'''\n",
    "def do_twice(func):\n",
    "    def wrapper_do_twice(*args, **kwargs):\n",
    "        func(*args, **kwargs)\n",
    "        func(*args, **kwargs)\n",
    "    return wrapper_do_twice\n",
    "\n",
    "@do_twice\n",
    "def greet(x):\n",
    "    print(f'Hello {x}!')\n",
    "\n",
    "greet(\"world\")"
   ]
  },
  {
   "cell_type": "code",
   "execution_count": 21,
   "metadata": {
    "tags": []
   },
   "outputs": [
    {
     "name": "stdout",
     "output_type": "stream",
     "text": [
      "before func\n"
     ]
    },
    {
     "data": {
      "text/plain": [
       "'Hello Denver!'"
      ]
     },
     "execution_count": 21,
     "metadata": {},
     "output_type": "execute_result"
    }
   ],
   "source": [
    "\"returning value\"\n",
    "\"to make sure you the function to be decorated return something; you must return it from the wapper function it \"\n",
    "def decorator_function(func):\n",
    "    def decorator_function_wrapper(*args, **kwargs):\n",
    "        print('before func')\n",
    "        return func(*args, **kwargs)\n",
    "        print('after func') # wont be printed since you returned from the function dummy\n",
    "    return decorator_function_wrapper\n",
    "\n",
    "@decorator_function\n",
    "def return_greeting(x):\n",
    "    return f'Hello {x}!'\n",
    "\n",
    "return_greeting('Denver')\n",
    "\n"
   ]
  },
  {
   "cell_type": "code",
   "execution_count": 30,
   "metadata": {
    "tags": []
   },
   "outputs": [
    {
     "name": "stdout",
     "output_type": "stream",
     "text": [
      "<function return_greeting at 0x000001786E24BC10>\n"
     ]
    },
    {
     "data": {
      "text/plain": [
       "<function __main__.return_greeting(x)>"
      ]
     },
     "execution_count": 30,
     "metadata": {},
     "output_type": "execute_result"
    }
   ],
   "source": [
    "print(return_greeting)\n",
    "\n",
    "# the function now is confused about its identity and says it's decorator_function_wrapper\n",
    "\n",
    "# To fix this, decorators should use the @functools.wraps decorator, which will preserve information about the original function. Update decorators.py again:\n",
    "\n",
    "\n",
    "import functools\n",
    "def decorator_function(func):   \n",
    "    @functools.wraps(func)\n",
    "    def decorator_function_wrapper(*args, **kwargs):\n",
    "        # do something before\n",
    "        value = func(*args, **kwargs)\n",
    "        # do something after \n",
    "        return value\n",
    "    return decorator_function_wrapper\n",
    "\n",
    "@decorator_function\n",
    "def return_greeting(x):\n",
    "    return f'Hello {x}!'\n",
    "\n",
    "return_greeting\n"
   ]
  },
  {
   "cell_type": "code",
   "execution_count": 33,
   "metadata": {},
   "outputs": [],
   "source": [
    "# Let's add some complexity in the form of a paramater\n",
    "def add_greeting(greeting=''):\n",
    "    def add_greeting_decorator(f):\n",
    "        @functools.wraps(f)\n",
    "        def wrapper(*args, **kwargs):\n",
    "            print(greeting)\n",
    "            return f(*args, **kwargs)\n",
    "        return wrapper\n",
    "    return add_greeting_decorator\n",
    "\n",
    "@add_greeting(\"what's up!\")\n",
    "def print_name(name):\n",
    "    print(name)\n",
    "\n",
    "print_name(\"kathy\")\n"
   ]
  },
  {
   "cell_type": "code",
   "execution_count": 35,
   "metadata": {
    "tags": []
   },
   "outputs": [
    {
     "name": "stdout",
     "output_type": "stream",
     "text": [
      "Yo!\n",
      "Yo! Abe\n"
     ]
    }
   ],
   "source": [
    "# We can also pass information back to the wrapped method\n",
    "def add_greeting(greeting=''):\n",
    "    def add_greeting_decorator(f):\n",
    "        @functools.wraps(f)\n",
    "        def wrapper(*args, **kwargs):\n",
    "            print(greeting)\n",
    "            return f(greeting, *args, **kwargs)\n",
    "        return wrapper\n",
    "    return add_greeting_decorator\n",
    "\n",
    "@add_greeting(\"Yo!\")\n",
    "def print_name(greeting, name):\n",
    "    print(greeting, name)\n",
    "    \n",
    "\n",
    "\n",
    "print_name(\"Abe\")"
   ]
  },
  {
   "cell_type": "code",
   "execution_count": 38,
   "metadata": {
    "tags": []
   },
   "outputs": [
    {
     "name": "stdout",
     "output_type": "stream",
     "text": [
      "Yo!\n",
      "print_name() takes 2 positional arguments but 3 were given\n"
     ]
    }
   ],
   "source": [
    "try:\n",
    "    print_name('abe', 'aku')\n",
    "except Exception as e:\n",
    "    print(e)"
   ]
  },
  {
   "cell_type": "code",
   "execution_count": null,
   "metadata": {},
   "outputs": [],
   "source": []
  }
 ],
 "metadata": {
  "kernelspec": {
   "display_name": "Python 3.9.6 64-bit",
   "language": "python",
   "name": "python3"
  },
  "language_info": {
   "codemirror_mode": {
    "name": "ipython",
    "version": 3
   },
   "file_extension": ".py",
   "mimetype": "text/x-python",
   "name": "python",
   "nbconvert_exporter": "python",
   "pygments_lexer": "ipython3",
   "version": "3.9.6"
  },
  "orig_nbformat": 2,
  "vscode": {
   "interpreter": {
    "hash": "31f2aee4e71d21fbe5cf8b01ff0e069b9275f58929596ceb00d14d90e3e16cd6"
   }
  }
 },
 "nbformat": 4,
 "nbformat_minor": 2
}
