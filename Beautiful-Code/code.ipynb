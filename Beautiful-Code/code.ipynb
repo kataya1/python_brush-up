{
 "cells": [
  {
   "cell_type": "code",
   "execution_count": 7,
   "metadata": {},
   "outputs": [],
   "source": [
    "# same line ternary\n",
    "def foo(c):\n",
    "    return \"%20\" if c == ' ' else c"
   ]
  },
  {
   "cell_type": "code",
   "execution_count": 9,
   "metadata": {},
   "outputs": [
    {
     "name": "stdout",
     "output_type": "stream",
     "text": [
      "['H', 'e', 'l', 'l', 'o', ' ', 'W', 'o', 'r', 'l', 'd', '!', ' ', ' ']\n"
     ]
    },
    {
     "data": {
      "text/plain": [
       "'Hello%20World!'"
      ]
     },
     "execution_count": 9,
     "metadata": {},
     "output_type": "execute_result"
    }
   ],
   "source": [
    "#applying a function .making a list through list comprehension and then joining\n",
    "s = \"Hello World!  \"\n",
    "l  = list(s)\n",
    "print(l)\n",
    "\n",
    "''.join(foo(c) for c in s.rstrip())"
   ]
  },
  {
   "cell_type": "code",
   "execution_count": 4,
   "metadata": {},
   "outputs": [
    {
     "name": "stdout",
     "output_type": "stream",
     "text": [
      "[1, 2, 3, 3, 4, 5]\n"
     ]
    },
    {
     "data": {
      "text/plain": [
       "{1: 'jay', 2: 'cj', 3: 'vlad'}"
      ]
     },
     "execution_count": 4,
     "metadata": {},
     "output_type": "execute_result"
    }
   ],
   "source": [
    "# merge two lists by unpacking\n",
    "x = [1, 2, 3]\n",
    "y = [3, 4, 5]\n",
    "z = [*x, *y]\n",
    "\n",
    "# merge two dicts\n",
    "a = {1:'jay',2:'seijo'}\n",
    "b = {3:'vlad',2:'cj'}\n",
    "c = {**a,**b}\n",
    "print(z)\n",
    "c"
   ]
  },
  {
   "cell_type": "code",
   "execution_count": 10,
   "metadata": {},
   "outputs": [
    {
     "name": "stdout",
     "output_type": "stream",
     "text": [
      "H e l l o   W o r l d !\n",
      "['H', 'e', 'l', 'l', 'o', ' ', 'W', 'o', 'r', 'l', 'd', '!']\n",
      "H e l l o   W o r l d !\n",
      "['H', 'e', 'l', 'l', 'o', ' ', 'W', 'o', 'r', 'l', 'd', '!']\n"
     ]
    }
   ],
   "source": [
    "# unpacking iterable using * operator\n",
    "a = \"Hello World!\"\n",
    "la = [*a]\n",
    "*b, = a\n",
    "print(*a)\n",
    "print(la)\n",
    "print(*la)\n",
    "print(b)"
   ]
  },
  {
   "cell_type": "code",
   "execution_count": 3,
   "metadata": {},
   "outputs": [
    {
     "name": "stdout",
     "output_type": "stream",
     "text": [
      "1\n",
      "[2, 3, 4]\n"
     ]
    }
   ],
   "source": [
    "#  disregarding the rest with _\n",
    "a, _ = [ 1, 2]\n",
    "a, *_ = [ 1, 2, 3, 4]\n",
    "print(a)\n",
    "# tuble with just one element, would be b = \"z\" if b = (\"z\")\n",
    "b = (\"z\",)"
   ]
  },
  {
   "cell_type": "code",
   "execution_count": 12,
   "metadata": {},
   "outputs": [
    {
     "name": "stdout",
     "output_type": "stream",
     "text": [
      "3\n"
     ]
    },
    {
     "data": {
      "text/plain": [
       "6"
      ]
     },
     "execution_count": 12,
     "metadata": {},
     "output_type": "execute_result"
    }
   ],
   "source": [
    "# multi argument function\n",
    "def sum(*args):\n",
    "    sum = 0\n",
    "    for i in args:\n",
    "        sum += i\n",
    "    return sum\n",
    "print(sum(1, 2)) \n",
    "sum(1, 2, 3)"
   ]
  },
  {
   "cell_type": "code",
   "execution_count": 4,
   "metadata": {},
   "outputs": [
    {
     "data": {
      "text/plain": [
       "'hell 3.44'"
      ]
     },
     "execution_count": 4,
     "metadata": {},
     "output_type": "execute_result"
    }
   ],
   "source": [
    "# static typing?\n",
    "def f(x : str) -> str:\n",
    "    return f\"hell {x}\"\n",
    "f(3.44)"
   ]
  },
  {
   "cell_type": "code",
   "execution_count": 4,
   "metadata": {},
   "outputs": [
    {
     "data": {
      "text/plain": [
       "5.0"
      ]
     },
     "execution_count": 4,
     "metadata": {},
     "output_type": "execute_result"
    }
   ],
   "source": [
    "# needn't import Math module for sqrt()\n",
    "x = 25**(1/2)\n",
    "x"
   ]
  },
  {
   "cell_type": "code",
   "execution_count": null,
   "metadata": {},
   "outputs": [],
   "source": [
    "# read input without EOF erros\n",
    "while True:\n",
    "    try:\n",
    "        input()\n",
    "    except EOFError:\n",
    "        break"
   ]
  },
  {
   "cell_type": "code",
   "execution_count": 17,
   "metadata": {},
   "outputs": [
    {
     "data": {
      "text/plain": [
       "823543"
      ]
     },
     "execution_count": 17,
     "metadata": {},
     "output_type": "execute_result"
    }
   ],
   "source": [
    "# immediatly invoced function expression\n",
    "# iife\n",
    "(lambda x: x**x)(7)"
   ]
  },
  {
   "cell_type": "code",
   "execution_count": 19,
   "metadata": {},
   "outputs": [
    {
     "data": {
      "text/plain": [
       "67"
      ]
     },
     "execution_count": 19,
     "metadata": {},
     "output_type": "execute_result"
    }
   ],
   "source": [
    "# simi colon line termination\n",
    "a = 3; b = 8; c = 56; a + b + c"
   ]
  },
  {
   "cell_type": "code",
   "execution_count": 20,
   "metadata": {},
   "outputs": [
    {
     "name": "stdout",
     "output_type": "stream",
     "text": [
      "6\n"
     ]
    }
   ],
   "source": [
    "# defining a variable in the global name space\n",
    "# Namespaces -> builtin( global( local() ) )\n",
    "count = 5\n",
    "def some_method(): \n",
    "    global count \n",
    "    count = count + 1\n",
    "    print(count) \n",
    "some_method() "
   ]
  },
  {
   "cell_type": "code",
   "execution_count": 15,
   "metadata": {},
   "outputs": [
    {
     "name": "stdout",
     "output_type": "stream",
     "text": [
      "hellworld\n",
      "AGAIN\n",
      "\thello\u000bone more time♜\n"
     ]
    }
   ],
   "source": [
    "# \\b backspace , \\r return (line beginning) , \\t tab\n",
    "print(\"hello\\bworld\"); print(\"HELLO\\rAGAIN\"); print('\\thello\\vone more time\\u265C')"
   ]
  },
  {
   "cell_type": "code",
   "execution_count": 2,
   "metadata": {},
   "outputs": [
    {
     "data": {
      "text/plain": [
       "42"
      ]
     },
     "execution_count": 2,
     "metadata": {},
     "output_type": "execute_result"
    }
   ],
   "source": [
    "# In-place value swapping\n",
    "# swap the values of a and b...\n",
    "a = 23; b = 42\n",
    "\n",
    "# classicc way\n",
    "tmp = a\n",
    "a = b\n",
    "b = tmp\n",
    "\n",
    "# python short-hand\n",
    "a, b = b, a"
   ]
  },
  {
   "cell_type": "code",
   "execution_count": 7,
   "metadata": {
    "tags": []
   },
   "outputs": [
    {
     "name": "stdout",
     "output_type": "stream",
     "text": [
      "1 2 3\n",
      "1 2 3\n"
     ]
    }
   ],
   "source": [
    "# special parameter\n",
    "def combined_example(pos_only, /, standard, *, kwd_only):\n",
    "    print(pos_only, standard, kwd_only)\n",
    "\n",
    "# combined_example(1, 2, 3) #gives an error\n",
    "combined_example(1, 2, kwd_only=3) # prints normally\n",
    "combined_example(1, standard=2, kwd_only=3) # prints normally\n",
    "# combined_example(pos_only=1, standard=2, kwd_only=3) #gives an error"
   ]
  },
  {
   "cell_type": "code",
   "execution_count": null,
   "metadata": {},
   "outputs": [],
   "source": [
    "# bit manipulation\n",
    "x = 0 # empty\n",
    "x |= 1<<19 # set bit 19\n",
    "x &= ~(1<<19) # clear bit 19\n",
    "x ^= 1<<19 # toggle bit 19\n",
    "x = ~x # invert *all* bits, all the way to infinity\n",
    "mask = ((1<<20)-1) # define a 20 bit wide mask\n",
    "x &= mask # ensure bits 20 and higher are 0\n",
    "x ^= mask # invert only bits 0 through 19\n",
    "\n",
    "(x >> 19) & 1 # test bit 19\n",
    "(x >> 16) & 0xf # get bits 16 through 20."
   ]
  },
  {
   "cell_type": "code",
   "execution_count": 4,
   "metadata": {},
   "outputs": [
    {
     "name": "stdout",
     "output_type": "stream",
     "text": [
      "144 25\n"
     ]
    },
    {
     "data": {
      "text/plain": [
       "[1, 4, 9, 16, 25, 36, 49]"
      ]
     },
     "execution_count": 4,
     "metadata": {},
     "output_type": "execute_result"
    }
   ],
   "source": [
    "# first class function\n",
    "def foo(x): return x*x\n",
    "# assigning function to a variable\n",
    "f = foo\n",
    "print(f(12), f(5))\n",
    "\n",
    "# passing a function as a parameter  (this is basicaly how a map function works)\n",
    "def my_map_function(function, listvar):\n",
    "    return [function(i) for i in listvar]\n",
    "\n",
    "my_map_function(foo, [1,2,3,4,5,6,7])"
   ]
  },
  {
   "cell_type": "code",
   "execution_count": 1,
   "metadata": {},
   "outputs": [
    {
     "name": "stdout",
     "output_type": "stream",
     "text": [
      "foo\n",
      "{'f': <function foo at 0x000001C6AFCFC048>, 't': <function too at 0x000001C6AFCFC598>, 'b': <function boo at 0x000001C6AFCFC620>}\n"
     ]
    }
   ],
   "source": [
    "# function selector (switch statement)\n",
    "def foo(): print(\"foo\")\n",
    "def too(): print('too')\n",
    "def boo(): print('boo')\n",
    "# if you pass in foo is just the function name, foo() executes the function \n",
    "func_selector = {'f':foo,'t':too,'b':boo}\n",
    "key = 'f'\n",
    "func_selector[key]()\n",
    "print(func_selector)"
   ]
  },
  {
   "cell_type": "code",
   "execution_count": 7,
   "metadata": {},
   "outputs": [
    {
     "name": "stdout",
     "output_type": "stream",
     "text": [
      "4 100 1024 10000000000\n"
     ]
    }
   ],
   "source": [
    "# closure\n",
    "def outer_function(remembered_var):\n",
    "    return lambda n: n**remembered_var\n",
    "power2 = outer_function(2)\n",
    "power10 = outer_function(10)\n",
    "\n",
    "print(power2(2), power2(10), power10(2), power10(10) )"
   ]
  },
  {
   "cell_type": "code",
   "execution_count": 4,
   "metadata": {},
   "outputs": [
    {
     "data": {
      "text/plain": [
       "[True, True, True, True, True, True, True, True]"
      ]
     },
     "execution_count": 4,
     "metadata": {},
     "output_type": "execute_result"
    }
   ],
   "source": [
    "# init a byte array\n",
    "byte_array = [True] * 8\n",
    "byte_array"
   ]
  },
  {
   "cell_type": "code",
   "execution_count": null,
   "metadata": {},
   "outputs": [],
   "source": [
    "# script output to textfile \n",
    "# to write output in a text file (create file if it doesn't exist) ( > for new file, >> for append)\n",
    "'''python prog.py > output.txt'''"
   ]
  },
  {
   "cell_type": "code",
   "execution_count": 8,
   "metadata": {
    "tags": []
   },
   "outputs": [
    {
     "name": "stdout",
     "output_type": "stream",
     "text": [
      "2           0 LOAD_FAST                0 (x)\n",
      "              2 LOAD_FAST                0 (x)\n",
      "              4 BINARY_MULTIPLY\n",
      "              6 RETURN_VALUE\n"
     ]
    }
   ],
   "source": [
    "# use this to disassample a function and check their cpyhton\\\n",
    "def foo(x): return x*x\n",
    "import dis\n",
    "dis.dis(foo)"
   ]
  },
  {
   "cell_type": "code",
   "execution_count": 8,
   "metadata": {},
   "outputs": [
    {
     "data": {
      "text/plain": [
       "[2, 4, 6, 8]"
      ]
     },
     "execution_count": 8,
     "metadata": {},
     "output_type": "execute_result"
    }
   ],
   "source": [
    "# filter\n",
    "a = [ 1, 2, 3, 4, 5, 6, 7, 8]\n",
    "odd = [1, 3, 5, 7, 9]\n",
    "x = [*filter(lambda x: x not in odd, a)]\n",
    "x\n"
   ]
  },
  {
   "cell_type": "code",
   "execution_count": 1,
   "metadata": {},
   "outputs": [
    {
     "data": {
      "text/plain": [
       "'!dlrow olleH'"
      ]
     },
     "execution_count": 1,
     "metadata": {},
     "output_type": "execute_result"
    }
   ],
   "source": [
    "# reverse array; step size of negative one\n",
    "'Hello world!'[::-1]"
   ]
  },
  {
   "cell_type": "code",
   "execution_count": null,
   "metadata": {},
   "outputs": [],
   "source": [
    "# initialize the value of keys in dict d to t[1] or add to it t[1] in a single line\n",
    "if ruledect.get(t[2], False):\n",
    "    d[t[2]] = d.get(t[2], 0) + int(t[1]) "
   ]
  }
 ],
 "metadata": {
  "file_extension": ".py",
  "kernelspec": {
   "display_name": "Python 3.9.6 64-bit",
   "language": "python",
   "name": "python3"
  },
  "language_info": {
   "codemirror_mode": {
    "name": "ipython",
    "version": 3
   },
   "file_extension": ".py",
   "mimetype": "text/x-python",
   "name": "python",
   "nbconvert_exporter": "python",
   "pygments_lexer": "ipython3",
   "version": "3.9.6"
  },
  "mimetype": "text/x-python",
  "name": "python",
  "npconvert_exporter": "python",
  "orig_nbformat": 2,
  "pygments_lexer": "ipython3",
  "version": 3,
  "vscode": {
   "interpreter": {
    "hash": "31f2aee4e71d21fbe5cf8b01ff0e069b9275f58929596ceb00d14d90e3e16cd6"
   }
  }
 },
 "nbformat": 4,
 "nbformat_minor": 2
}
