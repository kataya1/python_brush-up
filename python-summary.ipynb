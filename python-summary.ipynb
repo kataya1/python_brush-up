{
 "cells": [
  {
   "cell_type": "code",
   "execution_count": 1,
   "metadata": {},
   "outputs": [],
   "source": [
    "import sys\n",
    "import random\n",
    "import os\n",
    "# pdb for debugging\n",
    "import pdb\n",
    "import collections"
   ]
  },
  {
   "cell_type": "code",
   "execution_count": 4,
   "metadata": {},
   "outputs": [
    {
     "name": "stdout",
     "output_type": "stream",
     "text": [
      "bob\n"
     ]
    }
   ],
   "source": [
    "# data types\n",
    "# numbers (int, floats, complex)\n",
    "x = 3; y = 8.19; z = 1+2j\n",
    "# strings\n",
    "s = 'strings'\n",
    "# lists\n",
    "u = [1, 2, 3]\n",
    "# tubles\n",
    "t = (1, 2, 3)\n",
    "# dictionary'\n",
    "b = 3\n",
    "d = { 'a': 123, b: 'bob', 54: 'alice'}\n",
    "print(d[3])\n",
    "# can't assign multiple values to a key in dict but you can use something that can hold multivale\n",
    "d = {'car':[220, 'oil/electric'], 'plane':[1000, 'oil']}\n",
    "# set \n",
    "ss = set(u)\n",
    "\n",
    "\n",
    "\n"
   ]
  },
  {
   "cell_type": "code",
   "execution_count": 5,
   "metadata": {},
   "outputs": [
    {
     "name": "stdout",
     "output_type": "stream",
     "text": [
      "['strings', 'numbers', 'lists', 'tubles', 'dictionaries']\n",
      "hello world 30 see what print() can do\n",
      "\"he remembers that time when his father took him to see ice as he faced the firing squad\"\n",
      "fromt the book that doesn't seem to end \"he remembers that time when his father took him to see ice as he faced the firing squad\" see what print() can do\n"
     ]
    }
   ],
   "source": [
    "data_types = ['strings',\n",
    "              'numbers',\n",
    "              'lists',\n",
    "              'tubles',\n",
    "              'dictionaries']\n",
    "print(data_types)\n",
    "word = \"see what print() can do\"\n",
    "print(\"hello world\", 123 ** 3 % 33, word)\n",
    "# print(\"to end the new line that print puts between lines\", end = \"\" )\n",
    "quote = \"\\\"he remembers that time when his father took him to see ice as he faced the firing squad\\\"\"\n",
    "print(quote)\n",
    "print(\"%s %s %s\" % ('fromt the book that doesn\\'t seem to end', quote, word))"
   ]
  },
  {
   "cell_type": "code",
   "execution_count": 6,
   "metadata": {},
   "outputs": [
    {
     "name": "stdout",
     "output_type": "stream",
     "text": [
      "[1, 4, 2, 3]\n",
      "[1, 2, 3, 4]\n",
      "('+', '-', '*', 1)\n"
     ]
    }
   ],
   "source": [
    "num = [1, 2, 3]\n",
    "num.insert(1, 4)\n",
    "print(num)\n",
    "num.sort()\n",
    "print(num)\n",
    "arithmatics = (\"+\", \"-\", \"*\", 1)\n",
    "print(arithmatics)"
   ]
  },
  {
   "cell_type": "code",
   "execution_count": 2,
   "metadata": {},
   "outputs": [
    {
     "name": "stdout",
     "output_type": "stream",
     "text": [
      "35\n",
      "35\n",
      "101\n",
      "101\n"
     ]
    }
   ],
   "source": [
    "#lambda expresion\n",
    "# it's an anonymous function that returns a function on the same line\n",
    "lambda x: 3*x + 1\n",
    "# what's after the colon \":\" is the return-ed expression\n",
    "#  (x) => 3*x + 1  #  just like arrow function\n",
    "\n",
    "def build_quadratic_function(a, b, c):\n",
    "    return lambda x: a*x**2 + b*x + c\n",
    "# this is equivelant to\n",
    "def build_quadratic_function_normalfunc(a, b, c):\n",
    "    def foo(x):\n",
    "        return a*x**2 + b*x + c\n",
    "    return foo\n",
    "    \n",
    "# f becomes of type function\n",
    "\n",
    "f = build_quadratic_function(2, 4, 5)\n",
    "e = build_quadratic_function_normalfunc(2, 4, 5)\n",
    "print(f(3))\n",
    "print(e(3))\n",
    "print(f(6))\n",
    "print(e(6))"
   ]
  },
  {
   "cell_type": "code",
   "execution_count": 13,
   "metadata": {},
   "outputs": [
    {
     "name": "stdout",
     "output_type": "stream",
     "text": [
      "1\n"
     ]
    }
   ],
   "source": [
    "#reading file\n",
    "# opening the input file #r+ is for reading and writing\n",
    "f = open('example.in','r')\n",
    "#loopr over the file for line in f:\n",
    "first_line = f.readline()\n",
    "second_line = f.readline()\n",
    "#setting the input variables and splitting input like 2 3 1 5 into variables\n",
    "row, column, min, max = tuple(map(int,first_line.split(' ')))\n",
    "# #dont forget to close the file\n",
    "f.close()\n",
    "print(row)"
   ]
  },
  {
   "cell_type": "code",
   "execution_count": 3,
   "metadata": {},
   "outputs": [
    {
     "name": "stdout",
     "output_type": "stream",
     "text": [
      "{1, 2, 3, 4, 5, 6, 7}\n",
      "heldddlo [2, 4, 6, 8, 0]\n",
      "{1, 2, 3}\n"
     ]
    }
   ],
   "source": [
    "# <<<< LIST Comprehension >>>>\n",
    "nums = [1,2,3,4,5,6,7,8,99,9,0]\n",
    "func = []\n",
    "# -------------------------------\n",
    "# # for n in nums:\n",
    "# #     func.append(n*n)\n",
    "# func = [n*n for n in nums]\n",
    "# -------------------------------\n",
    "func = [n for n in nums if n%2 == 0]\n",
    "# func = [(letter,num) for letter in 'abcd' for num in range(4)]\n",
    "numss = [1,2,3,4,2,1,2,1,1,1,3,4,5,6,7]\n",
    "myset = { n for n in numss }\n",
    "print(myset)\n",
    "print(\"heldddlo\",func)\n",
    "# You can make a set like this\n",
    "makingAset = { 1, 2, 3, 3, 3}\n",
    "print(makingAset)\n",
    "\n"
   ]
  },
  {
   "cell_type": "code",
   "execution_count": 1,
   "metadata": {},
   "outputs": [
    {
     "name": "stdout",
     "output_type": "stream",
     "text": [
      "{'Donations': 50, 'Health and Wellness': 100, 'Learning and development': 200}\n"
     ]
    }
   ],
   "source": [
    "# <<<< Dict Comprehension >>>>\n",
    "rules = \\\n",
    "[\n",
    "    ['Donations', '50'],\n",
    "    ['Health and Wellness', '100'],\n",
    "    ['Learning and development', '200']\n",
    "]\n",
    "ruledect = { x:int(y) for [x,y] in rules}\n",
    "print(ruledect)\n"
   ]
  },
  {
   "cell_type": "code",
   "execution_count": 16,
   "metadata": {},
   "outputs": [
    {
     "name": "stdout",
     "output_type": "stream",
     "text": [
      "hi uzumaki naruto!\n",
      "hi uzumaki naruto!\n"
     ]
    }
   ],
   "source": [
    "#positional arguments 👌\n",
    "def familyfirst(first_name,last_name):\n",
    "    # print(\"hello\", last_name, first_name)\n",
    "    # a new way to format print (f string) \n",
    "    print(f'hi {last_name} {first_name}!')\n",
    "\n",
    "familyfirst(\"naruto\",\"uzumaki\")\n",
    "# you can call the parameter name from the function\n",
    "familyfirst(last_name=\"uzumaki\", first_name=\"naruto\")"
   ]
  },
  {
   "cell_type": "code",
   "execution_count": 19,
   "metadata": {},
   "outputs": [
    {
     "name": "stdout",
     "output_type": "stream",
     "text": [
      "age cannot be 0.!!\n"
     ]
    }
   ],
   "source": [
    "#exceptions 😊\n",
    "try:\n",
    "    age = int(input('Age: '))\n",
    "    risk = 2000/age\n",
    "    print(f'you are {age} years old')\n",
    "except ValueError:\n",
    "    print('type a number!!!')\n",
    "except ZeroDivisionError:\n",
    "    print('age cannot be 0!')\n",
    "# maybe you can add (except :)  just like that"
   ]
  },
  {
   "cell_type": "code",
   "execution_count": null,
   "metadata": {},
   "outputs": [],
   "source": [
    "# modules 😁\n",
    "# you put functions in othre <file>.py and import them for usebility\n",
    "# import KgtoLbs\n",
    "# KgtoLbs.convertKgtoLbs(30)  #convert is a function in the KgtoLbs module\n",
    "# you could import functions directly  # from KgtoLbs import convertKgtoLbs  # you don't need to use KgtoLbs.convertKgtoLbs just call the function normaaly\n",
    "# from KgtoLbs import convertKgtoLbs as conv # to rename the function\n"
   ]
  },
  {
   "cell_type": "code",
   "execution_count": null,
   "metadata": {},
   "outputs": [],
   "source": [
    "# data passing\n",
    "# python doesn't pass by reference or by value. is passes by something called \"object-reference-pass-by-value\"\n",
    "# ex x = 3 , x is a var assigned to a reference of an object of value 3, you can reassign x to a d differenct referenece of an object or change the object itself which you will see in other vars that are assigned to a reference to that object  use id(x) to check unique id of the object \n"
   ]
  },
  {
   "cell_type": "code",
   "execution_count": null,
   "metadata": {},
   "outputs": [],
   "source": []
  }
 ],
 "metadata": {
  "file_extension": ".py",
  "interpreter": {
   "hash": "31f2aee4e71d21fbe5cf8b01ff0e069b9275f58929596ceb00d14d90e3e16cd6"
  },
  "kernelspec": {
   "display_name": "Python 3.7.3 64-bit",
   "language": "python",
   "name": "python3"
  },
  "language_info": {
   "codemirror_mode": {
    "name": "ipython",
    "version": 3
   },
   "file_extension": ".py",
   "mimetype": "text/x-python",
   "name": "python",
   "nbconvert_exporter": "python",
   "pygments_lexer": "ipython3",
   "version": "3.9.6"
  },
  "mimetype": "text/x-python",
  "name": "python",
  "npconvert_exporter": "python",
  "orig_nbformat": 2,
  "pygments_lexer": "ipython3",
  "version": 3
 },
 "nbformat": 4,
 "nbformat_minor": 2
}
